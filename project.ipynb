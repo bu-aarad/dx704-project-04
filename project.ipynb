{
  "cells": [
    {
      "cell_type": "markdown",
      "metadata": {
        "id": "Md413FzAvFD8"
      },
      "source": [
        "# DX 704 Week 4 Project\n",
        "\n",
        "This week's project will test the learning speed of linear contextual bandits compared to unoptimized approaches.\n",
        "You will start with building a preference data set for evaluation, and then implement different variations of LinUCB and visualize how fast they learn the preferences.\n"
      ]
    },
    {
      "cell_type": "markdown",
      "metadata": {
        "id": "D3gs-tquuzJe"
      },
      "source": [
        "The full project description, a template notebook and supporting code are available on GitHub: [Project 4 Materials](https://github.com/bu-cds-dx704/dx704-project-04).\n"
      ]
    },
    {
      "cell_type": "markdown",
      "metadata": {
        "id": "OguIjc5idW3Z"
      },
      "source": [
        "## Example Code\n",
        "\n",
        "You may find it helpful to refer to these GitHub repositories of Jupyter notebooks for example code.\n",
        "\n",
        "* https://github.com/bu-cds-omds/dx601-examples\n",
        "* https://github.com/bu-cds-omds/dx602-examples\n",
        "* https://github.com/bu-cds-omds/dx603-examples\n",
        "* https://github.com/bu-cds-omds/dx704-examples\n",
        "\n",
        "Any calculations demonstrated in code examples or videos may be found in these notebooks, and you are allowed to copy this example code in your homework answers."
      ]
    },
    {
      "cell_type": "markdown",
      "metadata": {
        "id": "C8oSLkMqvMFF"
      },
      "source": [
        "## Part 1: Collect Rating Data\n",
        "\n",
        "The file \"recipes.tsv\" in this repository has information about 100 recipes.\n",
        "Make a new file \"ratings.tsv\" with two columns, recipe_slug (from recipes.tsv) and rating.\n",
        "Populate the rating column with values between 0 and 1 where 0 is the worst and 1 is the best.\n",
        "You can assign these ratings however you want within that range, but try to make it reflect a consistent set of preferences.\n",
        "These could be your preferences, or a persona of your choosing (e.g. chocolate lover, bacon-obsessed, or sweet tooth).\n",
        "Make sure that there are at least 10 ratings of zero and at least 10 ratings of one.\n"
      ]
    },
    {
      "cell_type": "markdown",
      "metadata": {
        "id": "kAwViBgKfWER"
      },
      "source": [
        "Hint: You may find it more convenient to assign raw ratings from 1 to 5 and then remap them as follows.\n",
        "\n",
        "`ratings[\"rating\"] = (ratings[\"rating_raw\"] - 1) * 0.25`"
      ]
    },
    {
      "cell_type": "code",
      "execution_count": 7,
      "metadata": {},
      "outputs": [],
      "source": [
        "import pandas as pd\n",
        "import numpy as np\n",
        "import hashlib\n",
        "from pathlib import Path\n",
        "\n",
        "RECIPES_PATH = Path(\"recipes.tsv\")  \n",
        "OUTPUT_PATH  = Path(\"ratings.tsv\")\n",
        "\n",
        "# Vegetarian, spicy-leaning persona:\n",
        "LIKE_KEYWORDS = [\"chili\",\"curry\",\"tofu\",\"lentil\",\"mushroom\",\"broccoli\",\"spicy\",\"garlic\",\"ginger\"]\n",
        "DISLIKE_KEYWORDS = [\"bacon\",\"pork\",\"beef\",\"sausage\",\"ham\",\"steak\",\"fried\",\"butter\",\"cream\",\"sugar\"]"
      ]
    },
    {
      "cell_type": "code",
      "execution_count": 8,
      "metadata": {},
      "outputs": [],
      "source": [
        "def deterministic_noise(s: str, scale: float = 0.2) -> float:\n",
        "    \"\"\"Deterministic small noise for tie-breaking, in range [-scale, scale].\"\"\"\n",
        "    h = hashlib.md5(s.encode(\"utf-8\")).hexdigest()\n",
        "    u = int(h[:8], 16) / 0xFFFFFFFF\n",
        "    return (u * 2 - 1) * scale\n",
        "\n",
        "def count_hits(text_series: pd.Series, keywords: list[str]) -> np.ndarray:\n",
        "    pat = \"|\".join([rf\"\\b{kw.replace('_','[ _-]')}\\b\" for kw in keywords])\n",
        "    return text_series.str.count(pat).fillna(0).to_numpy()"
      ]
    },
    {
      "cell_type": "code",
      "execution_count": 9,
      "metadata": {},
      "outputs": [
        {
          "name": "stdout",
          "output_type": "stream",
          "text": [
            "Wrote 100 ratings to ratings.tsv\n",
            "Counts: {0.5: 70, 0.25: 10, 0.0: 10, 1.0: 10}\n"
          ]
        },
        {
          "data": {
            "text/html": [
              "<div>\n",
              "<style scoped>\n",
              "    .dataframe tbody tr th:only-of-type {\n",
              "        vertical-align: middle;\n",
              "    }\n",
              "\n",
              "    .dataframe tbody tr th {\n",
              "        vertical-align: top;\n",
              "    }\n",
              "\n",
              "    .dataframe thead th {\n",
              "        text-align: right;\n",
              "    }\n",
              "</style>\n",
              "<table border=\"1\" class=\"dataframe\">\n",
              "  <thead>\n",
              "    <tr style=\"text-align: right;\">\n",
              "      <th></th>\n",
              "      <th>recipe_slug</th>\n",
              "      <th>rating_raw</th>\n",
              "      <th>rating</th>\n",
              "    </tr>\n",
              "  </thead>\n",
              "  <tbody>\n",
              "    <tr>\n",
              "      <th>0</th>\n",
              "      <td>almond-chip-cookies</td>\n",
              "      <td>3</td>\n",
              "      <td>0.5</td>\n",
              "    </tr>\n",
              "    <tr>\n",
              "      <th>1</th>\n",
              "      <td>almond-croissants</td>\n",
              "      <td>3</td>\n",
              "      <td>0.5</td>\n",
              "    </tr>\n",
              "    <tr>\n",
              "      <th>2</th>\n",
              "      <td>apple-crisp</td>\n",
              "      <td>3</td>\n",
              "      <td>0.5</td>\n",
              "    </tr>\n",
              "    <tr>\n",
              "      <th>3</th>\n",
              "      <td>apple-crumble</td>\n",
              "      <td>3</td>\n",
              "      <td>0.5</td>\n",
              "    </tr>\n",
              "    <tr>\n",
              "      <th>4</th>\n",
              "      <td>apple-pie</td>\n",
              "      <td>3</td>\n",
              "      <td>0.5</td>\n",
              "    </tr>\n",
              "  </tbody>\n",
              "</table>\n",
              "</div>"
            ],
            "text/plain": [
              "           recipe_slug  rating_raw  rating\n",
              "0  almond-chip-cookies           3     0.5\n",
              "1    almond-croissants           3     0.5\n",
              "2          apple-crisp           3     0.5\n",
              "3        apple-crumble           3     0.5\n",
              "4            apple-pie           3     0.5"
            ]
          },
          "execution_count": 9,
          "metadata": {},
          "output_type": "execute_result"
        }
      ],
      "source": [
        "recipes = pd.read_csv(RECIPES_PATH, sep=\"\\t\")\n",
        "if \"recipe_slug\" not in recipes.columns:\n",
        "    raise ValueError(\"recipes.tsv must contain a 'recipe_slug' column.\")\n",
        "\n",
        "text_cols = [c for c in [\"title\",\"ingredients\",\"recipe_slug\"] if c in recipes.columns]\n",
        "text = recipes[text_cols].astype(str).agg(\" \".join, axis=1).str.lower()\n",
        "\n",
        "like_hits = count_hits(text, LIKE_KEYWORDS)\n",
        "dis_hits  = count_hits(text, DISLIKE_KEYWORDS)\n",
        "\n",
        "# Raw rating 1–5, then remap to [0,1]\n",
        "raw = 3 + like_hits - dis_hits + np.array([deterministic_noise(s, 0.3) for s in recipes[\"recipe_slug\"].astype(str)])\n",
        "raw = np.clip(np.round(raw), 1, 5)  # keep within 1–5 integers\n",
        "ratings = pd.DataFrame({\n",
        "    \"recipe_slug\": recipes[\"recipe_slug\"],\n",
        "    \"rating_raw\": raw.astype(int)\n",
        "})\n",
        "ratings[\"rating\"] = (ratings[\"rating_raw\"] - 1) * 0.25\n",
        "\n",
        "# Ensure ≥10 zeros and ones\n",
        "ratings_sorted = ratings.sort_values(\"rating\")\n",
        "if (ratings_sorted[\"rating\"] == 0).sum() < 10:\n",
        "    ratings_sorted.iloc[:10, ratings_sorted.columns.get_loc(\"rating_raw\")] = 1\n",
        "    ratings_sorted[\"rating\"] = (ratings_sorted[\"rating_raw\"] - 1) * 0.25\n",
        "\n",
        "ratings_sorted = ratings_sorted.sort_values(\"rating\", ascending=False)\n",
        "if (ratings_sorted[\"rating\"] == 1).sum() < 10:\n",
        "    ratings_sorted.iloc[:10, ratings_sorted.columns.get_loc(\"rating_raw\")] = 5\n",
        "    ratings_sorted[\"rating\"] = (ratings_sorted[\"rating_raw\"] - 1) * 0.25\n",
        "\n",
        "# Finalize\n",
        "ratings_final = ratings_sorted.sort_values(\"recipe_slug\").reset_index(drop=True)\n",
        "ratings_final[[\"recipe_slug\",\"rating\"]].to_csv(OUTPUT_PATH, sep=\"\\t\", index=False)\n",
        "\n",
        "print(f\"Wrote {len(ratings_final)} ratings to {OUTPUT_PATH}\")\n",
        "print(\"Counts:\", ratings_final[\"rating\"].value_counts().to_dict())\n",
        "ratings_final.head()"
      ]
    },
    {
      "cell_type": "code",
      "execution_count": 11,
      "metadata": {},
      "outputs": [
        {
          "data": {
            "image/png": "[encoded data removed]",
            "text/plain": [
              "<Figure size 600x400 with 1 Axes>"
            ]
          },
          "metadata": {},
          "output_type": "display_data"
        }
      ],
      "source": [
        "import matplotlib.pyplot as plt\n",
        "\n",
        "plt.figure(figsize=(6,4))\n",
        "ratings_final[\"rating\"].hist(bins=[-0.01,0.01,0.26,0.51,0.76,1.01], rwidth=0.85)\n",
        "plt.xticks([0,0.25,0.5,0.75,1.0])\n",
        "plt.xlabel(\"Rating (0 to 1)\")\n",
        "plt.ylabel(\"Count\")\n",
        "plt.title(\"Distribution of Ratings\")\n",
        "plt.show()"
      ]
    },
    {
      "cell_type": "markdown",
      "metadata": {
        "id": "Eh7UaX6OvuWo"
      },
      "source": [
        "Submit \"ratings.tsv\" in Gradescope."
      ]
    },
    {
      "cell_type": "markdown",
      "metadata": {
        "id": "NiCwaZwr5M67"
      },
      "source": [
        "## Part 2: Construct Model Input\n",
        "\n",
        "Use your file \"ratings.tsv\" combined with \"recipe-tags.tsv\" to create a new file \"features.tsv\" with a column recipe_slug, a column bias which is hard-coded to one, and a column for each tag that appears in \"recipe-tags.tsv\".\n",
        "The tag column in this file should be a 0-1 encoding of the recipe tags for each recipe.\n",
        "[Pandas reshaping function methods](https://pandas.pydata.org/docs/user_guide/reshaping.html) may be helpful."
      ]
    },
    {
      "cell_type": "markdown",
      "metadata": {
        "id": "8WWi_JJXocEb"
      },
      "source": [
        "The bias column will make later LinUCB calculations easier since it will just be another dimension."
      ]
    },
    {
      "cell_type": "markdown",
      "metadata": {
        "id": "MHR-BsD9539j"
      },
      "source": [
        "Hint: For later modeling steps, it will be important to have the feature data (inputs) and the rating data (target outputs) in the same order.\n",
        "It is highly recommended to make sure that \"features.tsv\" and \"ratings.tsv\" have the recipe slugs in the same order."
      ]
    },
    {
      "cell_type": "code",
      "execution_count": 13,
      "metadata": {
        "id": "cGvj258d8nnv"
      },
      "outputs": [],
      "source": [
        "# YOUR CHANGES HERE\n",
        "\n",
        "RATINGS_PATH = Path(\"ratings.tsv\")\n",
        "TAGS_PATH    = Path(\"recipe-tags.tsv\")\n",
        "OUT_PATH     = Path(\"features.tsv\")\n",
        "\n",
        "ratings = pd.read_csv(RATINGS_PATH, sep=\"\\t\")\n",
        "if \"recipe_slug\" not in ratings.columns:\n",
        "    raise ValueError(\"ratings.tsv must contain a 'recipe_slug' column.\")\n",
        "if \"rating\" not in ratings.columns:\n",
        "    raise ValueError(\"ratings.tsv must contain a 'rating' column.\")\n",
        "\n",
        "tags_df = pd.read_csv(TAGS_PATH, sep=\"\\t\")"
      ]
    },
    {
      "cell_type": "code",
      "execution_count": 14,
      "metadata": {},
      "outputs": [],
      "source": [
        "def to_long(df):\n",
        "    cols = [c.lower() for c in df.columns]\n",
        "    lower_map = {c: c.lower() for c in df.columns}\n",
        "    df_ = df.rename(columns=lower_map)\n",
        "    if \"recipe_slug\" not in df_.columns:\n",
        "        raise ValueError(\"recipe-tags.tsv must contain a 'recipe_slug' column.\")\n",
        "    \n",
        "    if \"tag\" in df_.columns:\n",
        "        # Already long format\n",
        "        out = df_[[\"recipe_slug\",\"tag\"]].dropna()\n",
        "        out[\"tag\"] = out[\"tag\"].astype(str).str.strip()\n",
        "        out = out[out[\"tag\"]!=\"\"]\n",
        "        return out\n",
        "    \n",
        "    if \"tags\" in df_.columns:\n",
        "        # Split delimited list into long format\n",
        "        # Accept comma/pipe/semicolon/space as delimiters\n",
        "        tmp = df_[[\"recipe_slug\",\"tags\"]].copy()\n",
        "        tmp[\"tags\"] = tmp[\"tags\"].fillna(\"\").astype(str)\n",
        "        # Replace multiple common delimiters with a single comma for splitting\n",
        "        repl = {\n",
        "            \"|\": \",\", \";\": \",\", \"/\": \",\", \"\\\\\": \",\"\n",
        "        }\n",
        "        s = tmp[\"tags\"]\n",
        "        for k,v in repl.items():\n",
        "            s = s.str.replace(k, v, regex=False)\n",
        "        # Also normalize spaces around commas\n",
        "        s = s.str.replace(r\"\\s*,\\s*\", \",\", regex=True)\n",
        "        # Finally split on comma; if no comma, split on whitespace fallback\n",
        "        # Build long frame\n",
        "        rows = []\n",
        "        for slug, taglist in zip(tmp[\"recipe_slug\"], s):\n",
        "            if taglist.strip() == \"\":\n",
        "                continue\n",
        "            parts = [t.strip() for t in taglist.split(\",\") if t.strip()!=\"\"]\n",
        "            if len(parts) == 1 and \" \" in parts[0] and \",\" not in taglist:\n",
        "                parts = [t for t in parts[0].split() if t]\n",
        "            for t in parts:\n",
        "                rows.append((slug, t))\n",
        "        out = pd.DataFrame(rows, columns=[\"recipe_slug\",\"tag\"])\n",
        "        return out\n",
        "    \n",
        "    # If neither 'tag' nor 'tags' exists, try to guess a reasonable tag column\n",
        "    other_cols = [c for c in df_.columns if c!=\"recipe_slug\"]\n",
        "    if len(other_cols)==1:\n",
        "        guessed = other_cols[0]\n",
        "        out = df_[[\"recipe_slug\", guessed]].rename(columns={guessed:\"tag\"}).dropna()\n",
        "        out[\"tag\"] = out[\"tag\"].astype(str).str.strip()\n",
        "        out = out[out[\"tag\"]!=\"\"]\n",
        "        return out\n",
        "    \n",
        "    raise ValueError(\n",
        "        \"recipe-tags.tsv must contain either a 'tag' column (long format) or a 'tags' column (list format).\"\n",
        "    )\n",
        "\n",
        "tags_long = to_long(tags_df)"
      ]
    },
    {
      "cell_type": "code",
      "execution_count": 15,
      "metadata": {},
      "outputs": [],
      "source": [
        "# Clean tag strings: lowercase, replace spaces and special chars with underscores\n",
        "def clean_tag(t: str) -> str:\n",
        "    t = str(t).strip().lower()\n",
        "    # Replace spaces and common punctuation with underscores\n",
        "    t = t.replace(\"&\",\" and \")\n",
        "    t = t.replace(\"+\",\" plus \")\n",
        "    t = t.replace(\"/\",\" \")\n",
        "    t = t.replace(\"\\\\\",\" \")\n",
        "    t = t.replace(\"-\", \" \")\n",
        "    t = \" \".join(t.split())  # collapse whitespace\n",
        "    t = t.replace(\" \", \"_\")\n",
        "    return t\n",
        "\n",
        "tags_long[\"tag\"] = tags_long[\"tag\"].map(clean_tag)\n",
        "tags_long = tags_long[tags_long[\"tag\"]!=\"\"]\n"
      ]
    },
    {
      "cell_type": "code",
      "execution_count": 16,
      "metadata": {},
      "outputs": [],
      "source": [
        "# Deduplicate in case of duplicate entries\n",
        "tags_long = tags_long.drop_duplicates([\"recipe_slug\",\"tag\"])\n",
        "one_hot = (\n",
        "    tags_long.assign(val=1)\n",
        "             .pivot(index=\"recipe_slug\", columns=\"tag\", values=\"val\")\n",
        "             .fillna(0)\n",
        "             .astype(int)\n",
        ")"
      ]
    },
    {
      "cell_type": "code",
      "execution_count": 17,
      "metadata": {},
      "outputs": [],
      "source": [
        "one_hot.insert(0, \"bias\", 1)\n",
        "\n",
        "# Left join on recipe_slug using ratings as the key order\n",
        "features = ratings[[\"recipe_slug\"]].merge(one_hot, on=\"recipe_slug\", how=\"left\")\n",
        "\n",
        "# Fill missing tags with 0 for recipes that had no tags in the file\n",
        "tag_cols = [c for c in features.columns if c not in [\"recipe_slug\"]]\n",
        "features[tag_cols] = features[tag_cols].fillna(0).astype(int)"
      ]
    },
    {
      "cell_type": "code",
      "execution_count": 18,
      "metadata": {},
      "outputs": [
        {
          "name": "stdout",
          "output_type": "stream",
          "text": [
            "Wrote features with shape (100, 298) to features.tsv\n",
            "First 5 rows:\n"
          ]
        },
        {
          "data": {
            "text/html": [
              "<div>\n",
              "<style scoped>\n",
              "    .dataframe tbody tr th:only-of-type {\n",
              "        vertical-align: middle;\n",
              "    }\n",
              "\n",
              "    .dataframe tbody tr th {\n",
              "        vertical-align: top;\n",
              "    }\n",
              "\n",
              "    .dataframe thead th {\n",
              "        text-align: right;\n",
              "    }\n",
              "</style>\n",
              "<table border=\"1\" class=\"dataframe\">\n",
              "  <thead>\n",
              "    <tr style=\"text-align: right;\">\n",
              "      <th></th>\n",
              "      <th>recipe_slug</th>\n",
              "      <th>bias</th>\n",
              "      <th>alfredo</th>\n",
              "      <th>almond</th>\n",
              "      <th>american</th>\n",
              "      <th>appetizer</th>\n",
              "      <th>appetizers</th>\n",
              "      <th>apple</th>\n",
              "      <th>asiancuisine</th>\n",
              "      <th>asparagus</th>\n",
              "      <th>...</th>\n",
              "      <th>udonnoodles</th>\n",
              "      <th>vanilla</th>\n",
              "      <th>vanillaicecream</th>\n",
              "      <th>vegan</th>\n",
              "      <th>vegetables</th>\n",
              "      <th>vegetarian</th>\n",
              "      <th>warm</th>\n",
              "      <th>whippedcream</th>\n",
              "      <th>winter</th>\n",
              "      <th>yeastdough</th>\n",
              "    </tr>\n",
              "  </thead>\n",
              "  <tbody>\n",
              "    <tr>\n",
              "      <th>0</th>\n",
              "      <td>almond-chip-cookies</td>\n",
              "      <td>1</td>\n",
              "      <td>0</td>\n",
              "      <td>1</td>\n",
              "      <td>0</td>\n",
              "      <td>0</td>\n",
              "      <td>0</td>\n",
              "      <td>0</td>\n",
              "      <td>0</td>\n",
              "      <td>0</td>\n",
              "      <td>...</td>\n",
              "      <td>0</td>\n",
              "      <td>0</td>\n",
              "      <td>0</td>\n",
              "      <td>0</td>\n",
              "      <td>0</td>\n",
              "      <td>0</td>\n",
              "      <td>0</td>\n",
              "      <td>0</td>\n",
              "      <td>0</td>\n",
              "      <td>0</td>\n",
              "    </tr>\n",
              "    <tr>\n",
              "      <th>1</th>\n",
              "      <td>almond-croissants</td>\n",
              "      <td>1</td>\n",
              "      <td>0</td>\n",
              "      <td>1</td>\n",
              "      <td>0</td>\n",
              "      <td>0</td>\n",
              "      <td>0</td>\n",
              "      <td>0</td>\n",
              "      <td>0</td>\n",
              "      <td>0</td>\n",
              "      <td>...</td>\n",
              "      <td>0</td>\n",
              "      <td>0</td>\n",
              "      <td>0</td>\n",
              "      <td>0</td>\n",
              "      <td>0</td>\n",
              "      <td>0</td>\n",
              "      <td>0</td>\n",
              "      <td>0</td>\n",
              "      <td>0</td>\n",
              "      <td>0</td>\n",
              "    </tr>\n",
              "    <tr>\n",
              "      <th>2</th>\n",
              "      <td>apple-crisp</td>\n",
              "      <td>1</td>\n",
              "      <td>0</td>\n",
              "      <td>0</td>\n",
              "      <td>0</td>\n",
              "      <td>0</td>\n",
              "      <td>0</td>\n",
              "      <td>1</td>\n",
              "      <td>0</td>\n",
              "      <td>0</td>\n",
              "      <td>...</td>\n",
              "      <td>0</td>\n",
              "      <td>0</td>\n",
              "      <td>0</td>\n",
              "      <td>0</td>\n",
              "      <td>0</td>\n",
              "      <td>0</td>\n",
              "      <td>0</td>\n",
              "      <td>0</td>\n",
              "      <td>1</td>\n",
              "      <td>0</td>\n",
              "    </tr>\n",
              "    <tr>\n",
              "      <th>3</th>\n",
              "      <td>apple-crumble</td>\n",
              "      <td>1</td>\n",
              "      <td>0</td>\n",
              "      <td>0</td>\n",
              "      <td>0</td>\n",
              "      <td>0</td>\n",
              "      <td>0</td>\n",
              "      <td>1</td>\n",
              "      <td>0</td>\n",
              "      <td>0</td>\n",
              "      <td>...</td>\n",
              "      <td>0</td>\n",
              "      <td>0</td>\n",
              "      <td>1</td>\n",
              "      <td>0</td>\n",
              "      <td>0</td>\n",
              "      <td>0</td>\n",
              "      <td>0</td>\n",
              "      <td>1</td>\n",
              "      <td>0</td>\n",
              "      <td>0</td>\n",
              "    </tr>\n",
              "    <tr>\n",
              "      <th>4</th>\n",
              "      <td>apple-pie</td>\n",
              "      <td>1</td>\n",
              "      <td>0</td>\n",
              "      <td>0</td>\n",
              "      <td>0</td>\n",
              "      <td>0</td>\n",
              "      <td>0</td>\n",
              "      <td>1</td>\n",
              "      <td>0</td>\n",
              "      <td>0</td>\n",
              "      <td>...</td>\n",
              "      <td>0</td>\n",
              "      <td>0</td>\n",
              "      <td>0</td>\n",
              "      <td>0</td>\n",
              "      <td>0</td>\n",
              "      <td>0</td>\n",
              "      <td>0</td>\n",
              "      <td>0</td>\n",
              "      <td>0</td>\n",
              "      <td>0</td>\n",
              "    </tr>\n",
              "  </tbody>\n",
              "</table>\n",
              "<p>5 rows × 298 columns</p>\n",
              "</div>"
            ],
            "text/plain": [
              "           recipe_slug  bias  alfredo  almond  american  appetizer  \\\n",
              "0  almond-chip-cookies     1        0       1         0          0   \n",
              "1    almond-croissants     1        0       1         0          0   \n",
              "2          apple-crisp     1        0       0         0          0   \n",
              "3        apple-crumble     1        0       0         0          0   \n",
              "4            apple-pie     1        0       0         0          0   \n",
              "\n",
              "   appetizers  apple  asiancuisine  asparagus  ...  udonnoodles  vanilla  \\\n",
              "0           0      0             0          0  ...            0        0   \n",
              "1           0      0             0          0  ...            0        0   \n",
              "2           0      1             0          0  ...            0        0   \n",
              "3           0      1             0          0  ...            0        0   \n",
              "4           0      1             0          0  ...            0        0   \n",
              "\n",
              "   vanillaicecream  vegan  vegetables  vegetarian  warm  whippedcream  winter  \\\n",
              "0                0      0           0           0     0             0       0   \n",
              "1                0      0           0           0     0             0       0   \n",
              "2                0      0           0           0     0             0       1   \n",
              "3                1      0           0           0     0             1       0   \n",
              "4                0      0           0           0     0             0       0   \n",
              "\n",
              "   yeastdough  \n",
              "0           0  \n",
              "1           0  \n",
              "2           0  \n",
              "3           0  \n",
              "4           0  \n",
              "\n",
              "[5 rows x 298 columns]"
            ]
          },
          "metadata": {},
          "output_type": "display_data"
        }
      ],
      "source": [
        "# Ensure column ordering: recipe_slug, bias, then tags (sorted for reproducibility)\n",
        "ordered_cols = [\"recipe_slug\", \"bias\"] + sorted([c for c in features.columns if c not in [\"recipe_slug\",\"bias\"]])\n",
        "features = features[ordered_cols]\n",
        "\n",
        "features.to_csv(OUT_PATH, sep=\"\\t\", index=False)\n",
        "print(f\"Wrote features with shape {features.shape} to {OUT_PATH}\")\n",
        "print(\"First 5 rows:\")\n",
        "display(features.head())"
      ]
    },
    {
      "cell_type": "markdown",
      "metadata": {
        "id": "w63ji-Oi6oH7"
      },
      "source": [
        "Submit \"features.tsv\" in Gradescope."
      ]
    },
    {
      "cell_type": "markdown",
      "metadata": {
        "id": "4TeXvznlwJzo"
      },
      "source": [
        "## Part 3: Linear Preference Model\n",
        "\n",
        "Use your feature and rating files to build a ridge regression model with ridge regression's regularization parameter $\\alpha$ set to 1.\n"
      ]
    },
    {
      "cell_type": "markdown",
      "metadata": {
        "id": "aVlUnVv4oDIk"
      },
      "source": [
        "Hint: If you are using scikit-learn modeling classes, you should use `fit_intercept=False` since that intercept value will be redundant with the bias coefficient."
      ]
    },
    {
      "cell_type": "markdown",
      "metadata": {
        "id": "NLrBu-z7A45W"
      },
      "source": [
        "Hint: The estimate component of the bounds should match the previous estimate, so you should be able to just focus on the variance component of the bounds now."
      ]
    },
    {
      "cell_type": "code",
      "execution_count": 19,
      "metadata": {
        "id": "dxtiRunPwPYz"
      },
      "outputs": [],
      "source": [
        "# YOUR CHANGES HERE\n",
        "\n",
        "from sklearn.linear_model import Ridge\n",
        "\n",
        "FEATURES_PATH = Path(\"features.tsv\")\n",
        "RATINGS_PATH  = Path(\"ratings.tsv\")\n",
        "MODEL_PATH    = Path(\"model.tsv\")\n",
        "\n",
        "\n",
        "features = pd.read_csv(FEATURES_PATH, sep=\"\\t\")\n",
        "ratings  = pd.read_csv(RATINGS_PATH,  sep=\"\\t\")"
      ]
    },
    {
      "cell_type": "code",
      "execution_count": 20,
      "metadata": {},
      "outputs": [],
      "source": [
        "# If already aligned, this merge preserves order; if not, it realigns to ratings order.\n",
        "X = ratings[[\"recipe_slug\"]].merge(features, on=\"recipe_slug\", how=\"left\")\n",
        "if X.isna().any().any():\n",
        "    # If any recipe from ratings has no feature row, fill tag columns with 0, keep bias if present\n",
        "    tag_cols = [c for c in X.columns if c not in [\"recipe_slug\"]]\n",
        "    X[tag_cols] = X[tag_cols].fillna(0)\n",
        "\n",
        "# Separate design matrix and target\n",
        "tag_cols = [c for c in X.columns if c != \"recipe_slug\"]\n",
        "if \"bias\" not in tag_cols:\n",
        "    raise ValueError(\"features.tsv must include a 'bias' column of 1s (added in Part 2).\")\n",
        "\n",
        "y = ratings[\"rating\"].astype(float).to_numpy()\n",
        "X_mat = X[tag_cols].to_numpy(dtype=float)"
      ]
    },
    {
      "cell_type": "code",
      "execution_count": null,
      "metadata": {},
      "outputs": [
        {
          "name": "stdout",
          "output_type": "stream",
          "text": [
            "Fitted Ridge (alpha=1, no intercept). R^2=0.9539, MSE=0.002563\n"
          ]
        }
      ],
      "source": [
        "model = Ridge(alpha=1.0, fit_intercept=False) \n",
        "model.fit(X_mat, y)\n",
        "\n",
        "# Optional sanity metrics\n",
        "r2   = model.score(X_mat, y)\n",
        "mse  = float(np.mean((model.predict(X_mat) - y)**2))\n",
        "print(f\"Fitted Ridge (alpha=1, no intercept). R^2={r2:.4f}, MSE={mse:.6f}\")"
      ]
    },
    {
      "cell_type": "markdown",
      "metadata": {
        "id": "fw9LaHF_8tsA"
      },
      "source": [
        "Save the coefficients of this model in a file \"model.tsv\" with columns \"recipe_tag\" and \"coefficient\".\n",
        "Do not add anything for the `intercept_` attribute of a scikit-learn model; this will be covered by the coefficient for the bias column added in part 2."
      ]
    },
    {
      "cell_type": "code",
      "execution_count": 24,
      "metadata": {
        "id": "fiMBlU4L8uSR"
      },
      "outputs": [
        {
          "name": "stdout",
          "output_type": "stream",
          "text": [
            "Wrote 297 coefficients to model.tsv\n"
          ]
        },
        {
          "data": {
            "text/html": [
              "<div>\n",
              "<style scoped>\n",
              "    .dataframe tbody tr th:only-of-type {\n",
              "        vertical-align: middle;\n",
              "    }\n",
              "\n",
              "    .dataframe tbody tr th {\n",
              "        vertical-align: top;\n",
              "    }\n",
              "\n",
              "    .dataframe thead th {\n",
              "        text-align: right;\n",
              "    }\n",
              "</style>\n",
              "<table border=\"1\" class=\"dataframe\">\n",
              "  <thead>\n",
              "    <tr style=\"text-align: right;\">\n",
              "      <th></th>\n",
              "      <th>recipe_tag</th>\n",
              "      <th>coefficient</th>\n",
              "    </tr>\n",
              "  </thead>\n",
              "  <tbody>\n",
              "    <tr>\n",
              "      <th>0</th>\n",
              "      <td>alfredo</td>\n",
              "      <td>-0.003009</td>\n",
              "    </tr>\n",
              "    <tr>\n",
              "      <th>1</th>\n",
              "      <td>almond</td>\n",
              "      <td>0.065075</td>\n",
              "    </tr>\n",
              "    <tr>\n",
              "      <th>2</th>\n",
              "      <td>american</td>\n",
              "      <td>0.014976</td>\n",
              "    </tr>\n",
              "    <tr>\n",
              "      <th>3</th>\n",
              "      <td>appetizer</td>\n",
              "      <td>-0.026786</td>\n",
              "    </tr>\n",
              "    <tr>\n",
              "      <th>4</th>\n",
              "      <td>appetizers</td>\n",
              "      <td>0.029134</td>\n",
              "    </tr>\n",
              "  </tbody>\n",
              "</table>\n",
              "</div>"
            ],
            "text/plain": [
              "   recipe_tag  coefficient\n",
              "0     alfredo    -0.003009\n",
              "1      almond     0.065075\n",
              "2    american     0.014976\n",
              "3   appetizer    -0.026786\n",
              "4  appetizers     0.029134"
            ]
          },
          "execution_count": 24,
          "metadata": {},
          "output_type": "execute_result"
        }
      ],
      "source": [
        "# YOUR CHANGES HERE\n",
        "\n",
        "coefs = pd.DataFrame({\n",
        "    \"recipe_tag\": tag_cols,\n",
        "    \"coefficient\": model.coef_.astype(float)\n",
        "}).sort_values(\"recipe_tag\").reset_index(drop=True)\n",
        "\n",
        "coefs.to_csv(MODEL_PATH, sep=\"\\t\", index=False)\n",
        "print(f\"Wrote {len(coefs)} coefficients to {MODEL_PATH}\")\n",
        "coefs.head()"
      ]
    },
    {
      "cell_type": "markdown",
      "metadata": {
        "id": "86uS_zZ0wQxC"
      },
      "source": [
        "Submit \"model.tsv\" in Gradescope."
      ]
    },
    {
      "cell_type": "markdown",
      "metadata": {
        "id": "B1Nfs7zCsDpj"
      },
      "source": [
        "## Part 4: Recipe Estimates\n",
        "\n",
        "Use the recipe model to estimate the score of every recipe.\n",
        "Save these estimates to a file \"estimates.tsv\" with columns recipe_slug and score_estimate."
      ]
    },
    {
      "cell_type": "code",
      "execution_count": null,
      "metadata": {
        "id": "pIClPwYVso5a"
      },
      "outputs": [],
      "source": [
        "# YOUR CHANGES HERE\n",
        "\n",
        "FEATURES_PATH  = Path(\"features.tsv\")\n",
        "MODEL_PATH     = Path(\"model.tsv\")\n",
        "RATINGS_PATH   = Path(\"ratings.tsv\") \n",
        "ESTIMATES_PATH = Path(\"estimates.tsv\")\n",
        "\n",
        "features = pd.read_csv(FEATURES_PATH, sep=\"\\t\")\n",
        "coefs_df = pd.read_csv(MODEL_PATH, sep=\"\\t\")\n",
        "\n",
        "tag_cols = [c for c in features.columns if c != \"recipe_slug\"]\n",
        "coef_map = dict(zip(coefs_df[\"recipe_tag\"], coefs_df[\"coefficient\"]))\n",
        "\n",
        "# Restrict to intersection to compute estimates robustly\n",
        "use_cols = [c for c in tag_cols if c in coef_map]\n",
        "beta = np.array([coef_map[c] for c in use_cols], dtype=float)\n",
        "X = features[use_cols].to_numpy(dtype=float)"
      ]
    },
    {
      "cell_type": "code",
      "execution_count": 27,
      "metadata": {},
      "outputs": [
        {
          "name": "stdout",
          "output_type": "stream",
          "text": [
            "Wrote 100 rows to estimates.tsv\n",
            "           recipe_slug  score_estimate\n",
            "0  almond-chip-cookies        0.449618\n",
            "1    almond-croissants        0.485111\n",
            "2          apple-crisp        0.503165\n",
            "3        apple-crumble        0.520126\n",
            "4            apple-pie        0.482301\n"
          ]
        }
      ],
      "source": [
        "score_estimate = X @ beta\n",
        "estimates = pd.DataFrame({\n",
        "    \"recipe_slug\": features[\"recipe_slug\"],\n",
        "    \"score_estimate\": score_estimate\n",
        "})\n",
        "\n",
        "if RATINGS_PATH.exists():\n",
        "    ratings = pd.read_csv(RATINGS_PATH, sep=\"\\t\")\n",
        "    if \"recipe_slug\" in ratings.columns:\n",
        "        estimates = ratings[[\"recipe_slug\"]].merge(estimates, on=\"recipe_slug\", how=\"left\")\n",
        "\n",
        "estimates.to_csv(ESTIMATES_PATH, sep=\"\\t\", index=False)\n",
        "print(f\"Wrote {len(estimates)} rows to {ESTIMATES_PATH}\")\n",
        "print(estimates.head())"
      ]
    },
    {
      "cell_type": "markdown",
      "metadata": {
        "id": "i5t3uSE_srMA"
      },
      "source": [
        "Submit \"estimates.tsv\" in Gradescope."
      ]
    },
    {
      "cell_type": "markdown",
      "metadata": {
        "id": "yTBplNhRst8q"
      },
      "source": [
        "## Part 5: LinUCB Bounds\n",
        "\n",
        "Calculate the upper bounds of LinUCB using data corresponding to trying every recipe once and receiving the rating in \"ratings.tsv\" as the reward.\n",
        "Keep the ridge regression regularization parameter at 1, and set LinUCB's $\\alpha$ parameter to 2.\n",
        "Save these upper bounds to a file \"bounds.tsv\" with columns recipe_slug and score_bound."
      ]
    },
    {
      "cell_type": "code",
      "execution_count": 28,
      "metadata": {
        "id": "kY7aWD_PuP0W"
      },
      "outputs": [],
      "source": [
        "# YOUR CHANGES HERE\n",
        "\n",
        "FEATURES_PATH = Path(\"features.tsv\")\n",
        "RATINGS_PATH  = Path(\"ratings.tsv\")\n",
        "BOUNDS_PATH   = Path(\"bounds.tsv\")\n",
        "\n",
        "LAMBDA_RIDGE = 1.0     # ridge regularization (lambda)\n",
        "ALPHA_UCB    = 2.0     # LinUCB exploration parameter\n",
        "\n",
        "features = pd.read_csv(FEATURES_PATH, sep=\"\\t\")\n",
        "ratings  = pd.read_csv(RATINGS_PATH,  sep=\"\\t\")\n",
        "\n",
        "# Align to ratings order (one exploration per recipe with rating as reward)\n",
        "X_df = ratings[[\"recipe_slug\"]].merge(features, on=\"recipe_slug\", how=\"left\")\n",
        "if X_df.isna().any().any():\n",
        "    # fill any missing feature columns with 0 (bias should be present)\n",
        "    for c in X_df.columns:\n",
        "        if c != \"recipe_slug\":\n",
        "            X_df[c] = X_df[c].fillna(0)\n",
        "\n",
        "tag_cols = [c for c in X_df.columns if c != \"recipe_slug\"]\n",
        "if \"bias\" not in tag_cols:\n",
        "    raise ValueError(\"features.tsv must include a 'bias' column (from Part 2).\")\n",
        "\n",
        "X = X_df[tag_cols].to_numpy(dtype=float)   # shape (N, d)\n",
        "y = ratings[\"rating\"].astype(float).to_numpy()  # shape (N,)\n",
        "\n",
        "N, d = X.shape"
      ]
    },
    {
      "cell_type": "code",
      "execution_count": 29,
      "metadata": {},
      "outputs": [],
      "source": [
        "A = LAMBDA_RIDGE * np.eye(d)\n",
        "b = np.zeros(d, dtype=float)\n",
        "\n",
        "# accumulate over each observed (x_i, r_i)\n",
        "A += X.T @ X\n",
        "b += X.T @ y\n",
        "\n",
        "# θ̂ = A^{-1} b  (use solve for stability)\n",
        "theta_hat = np.linalg.solve(A, b)  # shape (d,)\n",
        "\n",
        "# Precompute A^{-1} just once for the UCB variance term\n",
        "A_inv = np.linalg.inv(A)\n"
      ]
    },
    {
      "cell_type": "code",
      "execution_count": 30,
      "metadata": {},
      "outputs": [],
      "source": [
        "mean_est   = X @ theta_hat                   # shape (N,)\n",
        "var_terms  = np.einsum(\"ij,jk,ik->i\", X, A_inv, X)  # faster diag(X A^{-1} X^T)\n",
        "ucb_bonus  = ALPHA_UCB * np.sqrt(var_terms.clip(min=0.0))\n",
        "score_bound = mean_est + ucb_bonus\n",
        "\n",
        "bounds = pd.DataFrame({\n",
        "    \"recipe_slug\": X_df[\"recipe_slug\"],\n",
        "    \"score_bound\": score_bound\n",
        "})"
      ]
    },
    {
      "cell_type": "code",
      "execution_count": 31,
      "metadata": {},
      "outputs": [
        {
          "name": "stdout",
          "output_type": "stream",
          "text": [
            "Wrote 100 rows to bounds.tsv\n",
            "           recipe_slug  score_bound\n",
            "0  almond-chip-cookies     2.173076\n",
            "1    almond-croissants     2.190967\n",
            "2          apple-crisp     2.279507\n",
            "3        apple-crumble     2.389798\n",
            "4            apple-pie     2.332553\n"
          ]
        }
      ],
      "source": [
        "bounds.to_csv(BOUNDS_PATH, sep=\"\\t\", index=False)\n",
        "print(f\"Wrote {len(bounds)} rows to {BOUNDS_PATH}\")\n",
        "print(bounds.head())"
      ]
    },
    {
      "cell_type": "markdown",
      "metadata": {
        "id": "ZQ4RPppFvG-S"
      },
      "source": [
        "Submit \"bounds.tsv\" in Gradescope."
      ]
    },
    {
      "cell_type": "markdown",
      "metadata": {
        "id": "AfazOSWlwYsP"
      },
      "source": [
        "## Part 6: Make Online Recommendations\n",
        "\n",
        "Implement LinUCB to make 100 recommendations starting with no data and using the same parameters as in part 5.\n",
        "One recommendation should be made at a time and you can break ties arbitrarily.\n",
        "After each recommendation, use the rating from part 1 as the reward to update the LinUCB data.\n",
        "Record the recommendations made in a file \"recommendations.tsv\" with columns \"recipe_slug\", \"score_bound\", and \"reward\".\n",
        "The rows in this file should be in the same order as the recommendations were made."
      ]
    },
    {
      "cell_type": "code",
      "execution_count": 32,
      "metadata": {
        "id": "hQ7r45B7wm4v"
      },
      "outputs": [],
      "source": [
        "# YOUR CHANGES HERE\n",
        "\n",
        "FEATURES_PATH  = Path(\"features.tsv\")\n",
        "RATINGS_PATH   = Path(\"ratings.tsv\")\n",
        "RECS_PATH      = Path(\"recommendations.tsv\")\n",
        "\n",
        "LAMBDA_RIDGE = 1.0\n",
        "ALPHA_UCB    = 2.0\n",
        "NUM_RECS     = 100\n",
        "\n",
        "features = pd.read_csv(FEATURES_PATH, sep=\"\\t\")\n",
        "ratings  = pd.read_csv(RATINGS_PATH,  sep=\"\\t\")\n",
        "\n",
        "# Align to a common list of recipes\n",
        "df = features.merge(ratings[[\"recipe_slug\",\"rating\"]], on=\"recipe_slug\", how=\"inner\")\n",
        "if df.empty:\n",
        "    raise ValueError(\"No overlapping recipe_slug between features.tsv and ratings.tsv.\")\n",
        "\n",
        "# Feature matrix and targets\n",
        "tag_cols = [c for c in df.columns if c not in [\"recipe_slug\",\"rating\"]]\n",
        "if \"bias\" not in tag_cols:\n",
        "    raise ValueError(\"features.tsv must include a 'bias' column (from Part 2).\")\n",
        "\n",
        "X_all = df[tag_cols].to_numpy(dtype=float)           # shape (N, d)\n",
        "r_all = df[\"rating\"].astype(float).to_numpy()        # shape (N,)\n",
        "slugs = df[\"recipe_slug\"].tolist()\n",
        "\n",
        "N, d = X_all.shape\n",
        "T = min(NUM_RECS, N)  # do not exceed number of available recipes"
      ]
    },
    {
      "cell_type": "code",
      "execution_count": 33,
      "metadata": {},
      "outputs": [],
      "source": [
        "A = LAMBDA_RIDGE * np.eye(d)\n",
        "b = np.zeros(d, dtype=float)\n",
        "\n",
        "chosen = np.zeros(N, dtype=bool)  # track which arms already recommended\n",
        "log_rows = []"
      ]
    },
    {
      "cell_type": "code",
      "execution_count": 34,
      "metadata": {},
      "outputs": [],
      "source": [
        "for t in range(T):\n",
        "    # Current theta_hat and A^{-1}\n",
        "    A_inv = np.linalg.inv(A)\n",
        "    theta_hat = A_inv @ b  # shape (d,)\n",
        "\n",
        "    # Compute UCB for all not-yet-chosen arms\n",
        "    idxs = np.where(~chosen)[0]\n",
        "    X = X_all[idxs]  # (M, d)\n",
        "\n",
        "    # mean = X theta\n",
        "    mean = X @ theta_hat  # (M,)\n",
        "\n",
        "    # variance term: diag(X A^{-1} X^T)\n",
        "    var_terms = np.einsum(\"ij,jk,ik->i\", X, A_inv, X)\n",
        "    bonus = ALPHA_UCB * np.sqrt(np.clip(var_terms, 0.0, None))\n",
        "\n",
        "    ucb = mean + bonus\n",
        "\n",
        "    # Select the arm with max UCB\n",
        "    pick_local = int(np.argmax(ucb))\n",
        "    i = int(idxs[pick_local])\n",
        "\n",
        "    # Log at selection time\n",
        "    picked_slug = slugs[i]\n",
        "    picked_bound = float(ucb[pick_local])\n",
        "    reward = float(r_all[i])\n",
        "\n",
        "    log_rows.append({\n",
        "        \"recipe_slug\": picked_slug,\n",
        "        \"score_bound\": picked_bound,\n",
        "        \"reward\": reward,\n",
        "    })\n",
        "\n",
        "    # Update A and b with observed (x_i, r_i)\n",
        "    x_i = X_all[i]            # (d,)\n",
        "    A += np.outer(x_i, x_i)   # A <- A + x x^T\n",
        "    b += x_i * reward         # b <- b + x r\n",
        "    chosen[i] = True"
      ]
    },
    {
      "cell_type": "code",
      "execution_count": 35,
      "metadata": {},
      "outputs": [
        {
          "name": "stdout",
          "output_type": "stream",
          "text": [
            "Made 100 recommendations and wrote to recommendations.tsv\n",
            "        recipe_slug  score_bound  reward\n",
            "0     apple-crumble     7.483315     0.5\n",
            "1     ma-la-chicken     7.225922     0.5\n",
            "2       quesadillas     7.215690     0.5\n",
            "3             ramen     7.205736     1.0\n",
            "4  bacon-fried-rice     6.984546     0.0\n",
            "5        spamburger     6.950596     0.5\n",
            "6  pain-au-chocolat     6.957699     0.5\n",
            "7   chocolate-babka     6.873244     0.5\n",
            "8       nacho-fries     6.763055     0.5\n",
            "9   cranberry-sauce     6.673895     0.5\n"
          ]
        }
      ],
      "source": [
        "recs = pd.DataFrame(log_rows, columns=[\"recipe_slug\",\"score_bound\",\"reward\"])\n",
        "recs.to_csv(RECS_PATH, sep=\"\\t\", index=False)\n",
        "print(f\"Made {len(recs)} recommendations and wrote to {RECS_PATH}\")\n",
        "print(recs.head(10))"
      ]
    },
    {
      "cell_type": "markdown",
      "metadata": {
        "id": "23jv0cD0woSt"
      },
      "source": [
        "Submit \"recommendations.tsv\" in Gradescope."
      ]
    },
    {
      "cell_type": "markdown",
      "metadata": {
        "id": "zi8lV2pbvWMs"
      },
      "source": [
        "## Part 7: Acknowledgments\n",
        "\n",
        "Make a file \"acknowledgments.txt\" documenting any outside sources or help on this project.\n",
        "If you discussed this assignment with anyone, please acknowledge them here.\n",
        "If you used any libraries not mentioned in this module's content, please list them with a brief explanation what you used them for.\n",
        "If you used any generative AI tools, please add links to your transcripts below, and any other information that you feel is necessary to comply with the generative AI policy.\n",
        "If no acknowledgements are appropriate, just write none in the file.\n"
      ]
    },
    {
      "cell_type": "markdown",
      "metadata": {
        "id": "SuNJe62UxCoH"
      },
      "source": [
        "Submit \"acknowledgments.txt\" in Gradescope."
      ]
    },
    {
      "cell_type": "markdown",
      "metadata": {
        "id": "smsTLuFcvR-I"
      },
      "source": [
        "## Part 8: Code\n",
        "\n",
        "Please submit a Jupyter notebook that can reproduce all your calculations and recreate the previously submitted files.\n"
      ]
    },
    {
      "cell_type": "markdown",
      "metadata": {
        "id": "3cgzHyF7wxpr"
      },
      "source": [
        "Submit \"project.ipynb\" in Gradescope."
      ]
    }
  ],
  "metadata": {
    "colab": {
      "toc_visible": false
    },
    "kernelspec": {
      "display_name": "Python 3",
      "name": "python3"
    },
    "language_info": {
      "codemirror_mode": {
        "name": "ipython",
        "version": 3
      },
      "file_extension": ".py",
      "mimetype": "text/x-python",
      "name": "python",
      "nbconvert_exporter": "python",
      "pygments_lexer": "ipython3",
      "version": "3.12.1"
    }
  },
  "nbformat": 4,
  "nbformat_minor": 0
}
